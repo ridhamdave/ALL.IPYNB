{
 "cells": [
  {
   "cell_type": "code",
   "execution_count": 49,
   "metadata": {
    "collapsed": false
   },
   "outputs": [],
   "source": [
    "import pandas as pd\n",
    "from sklearn.feature_extraction.text import TfidfVectorizer\n",
    "from sklearn.decomposition import TruncatedSVD"
   ]
  },
  {
   "cell_type": "code",
   "execution_count": 50,
   "metadata": {
    "collapsed": true
   },
   "outputs": [],
   "source": [
    "df=pd.read_csv('C:/Users/trainees/Desktop/data.csv')"
   ]
  },
  {
   "cell_type": "code",
   "execution_count": 51,
   "metadata": {
    "collapsed": false
   },
   "outputs": [
    {
     "data": {
      "text/html": [
       "<div>\n",
       "<style>\n",
       "    .dataframe thead tr:only-child th {\n",
       "        text-align: right;\n",
       "    }\n",
       "\n",
       "    .dataframe thead th {\n",
       "        text-align: left;\n",
       "    }\n",
       "\n",
       "    .dataframe tbody tr th {\n",
       "        vertical-align: top;\n",
       "    }\n",
       "</style>\n",
       "<table border=\"1\" class=\"dataframe\">\n",
       "  <thead>\n",
       "    <tr style=\"text-align: right;\">\n",
       "      <th></th>\n",
       "      <th>url</th>\n",
       "      <th>meta_1</th>\n",
       "      <th>meta_2</th>\n",
       "      <th>title_1</th>\n",
       "      <th>h1_1</th>\n",
       "      <th>h1_2</th>\n",
       "      <th>h1_3</th>\n",
       "      <th>h1_4</th>\n",
       "      <th>h1_5</th>\n",
       "      <th>h1_6</th>\n",
       "      <th>...</th>\n",
       "      <th>li_31</th>\n",
       "      <th>li_32</th>\n",
       "      <th>li_33</th>\n",
       "      <th>li_34</th>\n",
       "      <th>li_35</th>\n",
       "      <th>li_36</th>\n",
       "      <th>li_37</th>\n",
       "      <th>li_38</th>\n",
       "      <th>li_39</th>\n",
       "      <th>li_40</th>\n",
       "    </tr>\n",
       "  </thead>\n",
       "  <tbody>\n",
       "    <tr>\n",
       "      <th>232</th>\n",
       "      <td>https://www.wrightwoodsurveillance.com</td>\n",
       "      <td>source top brand name quality network securit...</td>\n",
       "      <td>NaN</td>\n",
       "      <td>Home Surveillance</td>\n",
       "      <td>NaN</td>\n",
       "      <td>NaN</td>\n",
       "      <td>NaN</td>\n",
       "      <td>NaN</td>\n",
       "      <td>NaN</td>\n",
       "      <td>NaN</td>\n",
       "      <td>...</td>\n",
       "      <td>Hard Drives</td>\n",
       "      <td>Accessories POE Injectors POE Switches Switch...</td>\n",
       "      <td>NaN</td>\n",
       "      <td>POE Injectors</td>\n",
       "      <td>POE Switches</td>\n",
       "      <td>Switches</td>\n",
       "      <td>Mounts Boxes</td>\n",
       "      <td>Illuminators</td>\n",
       "      <td>Tools</td>\n",
       "      <td>Cables</td>\n",
       "    </tr>\n",
       "    <tr>\n",
       "      <th>233</th>\n",
       "      <td>https://www.wsiweld.com</td>\n",
       "      <td>Weld Integrators WSI manufacturer distributor...</td>\n",
       "      <td>NaN</td>\n",
       "      <td>Weld Integrators | Resistance Welding Equipme...</td>\n",
       "      <td>Weld Integrators WSI Resistance Welding Solved</td>\n",
       "      <td>NaN</td>\n",
       "      <td>NaN</td>\n",
       "      <td>NaN</td>\n",
       "      <td>NaN</td>\n",
       "      <td>NaN</td>\n",
       "      <td>...</td>\n",
       "      <td>Affiliates Partners</td>\n",
       "      <td>Employment</td>\n",
       "      <td>Contact WSI</td>\n",
       "      <td>Rocker Arm Welders- Press Type Welders- Capac...</td>\n",
       "      <td>Rocker Arm Welders</td>\n",
       "      <td>Press Type Welders</td>\n",
       "      <td>Capacitor Discharge Welding</td>\n",
       "      <td>Spot Welding Guns</td>\n",
       "      <td>Benchtop Welders</td>\n",
       "      <td>Seam Welders</td>\n",
       "    </tr>\n",
       "    <tr>\n",
       "      <th>234</th>\n",
       "      <td>https://www.wsjenks.com</td>\n",
       "      <td>NaN</td>\n",
       "      <td>NaN</td>\n",
       "      <td>W. S. Jenks Son Departments</td>\n",
       "      <td>Shop Departments W. S. Jenks Son</td>\n",
       "      <td>NaN</td>\n",
       "      <td>NaN</td>\n",
       "      <td>NaN</td>\n",
       "      <td>NaN</td>\n",
       "      <td>NaN</td>\n",
       "      <td>...</td>\n",
       "      <td>Storage Organization</td>\n",
       "      <td>NaN</td>\n",
       "      <td>NaN</td>\n",
       "      <td>NaN</td>\n",
       "      <td>NaN</td>\n",
       "      <td>NaN</td>\n",
       "      <td>NaN</td>\n",
       "      <td>NaN</td>\n",
       "      <td>NaN</td>\n",
       "      <td>NaN</td>\n",
       "    </tr>\n",
       "    <tr>\n",
       "      <th>235</th>\n",
       "      <td>https://www.xcessivemanufacturing.com</td>\n",
       "      <td>Design CAD/CAM Prototyping Production Custom ...</td>\n",
       "      <td>Toyota Corolla BEAMS BMW E36 Cressida Nissan ...</td>\n",
       "      <td>Manufacturing</td>\n",
       "      <td>Magento Commerce</td>\n",
       "      <td>NaN</td>\n",
       "      <td>NaN</td>\n",
       "      <td>NaN</td>\n",
       "      <td>NaN</td>\n",
       "      <td>NaN</td>\n",
       "      <td>...</td>\n",
       "      <td>Engine</td>\n",
       "      <td>Transmission</td>\n",
       "      <td>SR Intake Transmission</td>\n",
       "      <td>Intake</td>\n",
       "      <td>Transmission</td>\n",
       "      <td>VH45 Transmission Intake Exhaust Accesories</td>\n",
       "      <td>Transmission</td>\n",
       "      <td>Intake Exhaust Accesories</td>\n",
       "      <td>Honda B Series H Series K Series</td>\n",
       "      <td>B Series</td>\n",
       "    </tr>\n",
       "    <tr>\n",
       "      <th>236</th>\n",
       "      <td>https://www.zeemedical.net</td>\n",
       "      <td>health safety employees ZEE experience expert...</td>\n",
       "      <td>First aid kits office cabinet safety training...</td>\n",
       "      <td>ZEE MEDICAL SERVICE PRODUCTS | EMERGENCY | FI...</td>\n",
       "      <td>NaN</td>\n",
       "      <td>NaN</td>\n",
       "      <td>NaN</td>\n",
       "      <td>NaN</td>\n",
       "      <td>NaN</td>\n",
       "      <td>NaN</td>\n",
       "      <td>...</td>\n",
       "      <td>SKIN CARE</td>\n",
       "      <td>TOPICALS ANTISEPTICS</td>\n",
       "      <td>UNIT ITEMS</td>\n",
       "      <td>SAFETY EYE FACE PROTECTION HAND PROTECTION HE...</td>\n",
       "      <td>EYE FACE PROTECTION</td>\n",
       "      <td>HAND PROTECTION</td>\n",
       "      <td>HEAD PROTECTION</td>\n",
       "      <td>HEARING PROTECTION</td>\n",
       "      <td>PROTECTIVE CLOTHING</td>\n",
       "      <td>RESPIRATORY PROTECTION</td>\n",
       "    </tr>\n",
       "  </tbody>\n",
       "</table>\n",
       "<p>5 rows × 144 columns</p>\n",
       "</div>"
      ],
      "text/plain": [
       "                                        url  \\\n",
       "232  https://www.wrightwoodsurveillance.com   \n",
       "233                 https://www.wsiweld.com   \n",
       "234                 https://www.wsjenks.com   \n",
       "235   https://www.xcessivemanufacturing.com   \n",
       "236              https://www.zeemedical.net   \n",
       "\n",
       "                                                meta_1  \\\n",
       "232   source top brand name quality network securit...   \n",
       "233   Weld Integrators WSI manufacturer distributor...   \n",
       "234                                                NaN   \n",
       "235   Design CAD/CAM Prototyping Production Custom ...   \n",
       "236   health safety employees ZEE experience expert...   \n",
       "\n",
       "                                                meta_2  \\\n",
       "232                                                NaN   \n",
       "233                                                NaN   \n",
       "234                                                NaN   \n",
       "235   Toyota Corolla BEAMS BMW E36 Cressida Nissan ...   \n",
       "236   First aid kits office cabinet safety training...   \n",
       "\n",
       "                                               title_1  \\\n",
       "232                                  Home Surveillance   \n",
       "233   Weld Integrators | Resistance Welding Equipme...   \n",
       "234                        W. S. Jenks Son Departments   \n",
       "235                                      Manufacturing   \n",
       "236   ZEE MEDICAL SERVICE PRODUCTS | EMERGENCY | FI...   \n",
       "\n",
       "                                                h1_1 h1_2 h1_3 h1_4 h1_5 h1_6  \\\n",
       "232                                              NaN  NaN  NaN  NaN  NaN  NaN   \n",
       "233   Weld Integrators WSI Resistance Welding Solved  NaN  NaN  NaN  NaN  NaN   \n",
       "234                 Shop Departments W. S. Jenks Son  NaN  NaN  NaN  NaN  NaN   \n",
       "235                                 Magento Commerce  NaN  NaN  NaN  NaN  NaN   \n",
       "236                                              NaN  NaN  NaN  NaN  NaN  NaN   \n",
       "\n",
       "              ...                             li_31  \\\n",
       "232           ...                       Hard Drives   \n",
       "233           ...               Affiliates Partners   \n",
       "234           ...              Storage Organization   \n",
       "235           ...                            Engine   \n",
       "236           ...                         SKIN CARE   \n",
       "\n",
       "                                                 li_32  \\\n",
       "232   Accessories POE Injectors POE Switches Switch...   \n",
       "233                                         Employment   \n",
       "234                                                NaN   \n",
       "235                                       Transmission   \n",
       "236                               TOPICALS ANTISEPTICS   \n",
       "\n",
       "                       li_33  \\\n",
       "232                      NaN   \n",
       "233              Contact WSI   \n",
       "234                      NaN   \n",
       "235   SR Intake Transmission   \n",
       "236               UNIT ITEMS   \n",
       "\n",
       "                                                 li_34                 li_35  \\\n",
       "232                                      POE Injectors          POE Switches   \n",
       "233   Rocker Arm Welders- Press Type Welders- Capac...    Rocker Arm Welders   \n",
       "234                                                NaN                   NaN   \n",
       "235                                             Intake          Transmission   \n",
       "236   SAFETY EYE FACE PROTECTION HAND PROTECTION HE...   EYE FACE PROTECTION   \n",
       "\n",
       "                                            li_36  \\\n",
       "232                                      Switches   \n",
       "233                            Press Type Welders   \n",
       "234                                           NaN   \n",
       "235   VH45 Transmission Intake Exhaust Accesories   \n",
       "236                               HAND PROTECTION   \n",
       "\n",
       "                            li_37                       li_38  \\\n",
       "232                  Mounts Boxes                Illuminators   \n",
       "233   Capacitor Discharge Welding           Spot Welding Guns   \n",
       "234                           NaN                         NaN   \n",
       "235                  Transmission   Intake Exhaust Accesories   \n",
       "236               HEAD PROTECTION          HEARING PROTECTION   \n",
       "\n",
       "                                 li_39                    li_40  \n",
       "232                              Tools                   Cables  \n",
       "233                   Benchtop Welders             Seam Welders  \n",
       "234                                NaN                      NaN  \n",
       "235   Honda B Series H Series K Series                 B Series  \n",
       "236                PROTECTIVE CLOTHING   RESPIRATORY PROTECTION  \n",
       "\n",
       "[5 rows x 144 columns]"
      ]
     },
     "execution_count": 51,
     "metadata": {},
     "output_type": "execute_result"
    }
   ],
   "source": [
    "df.tail()"
   ]
  },
  {
   "cell_type": "code",
   "execution_count": 52,
   "metadata": {
    "collapsed": false
   },
   "outputs": [],
   "source": [
    "\n",
    "df_meta=df[[\"url\",\"meta_1\",\"meta_2\"]]"
   ]
  },
  {
   "cell_type": "code",
   "execution_count": 53,
   "metadata": {
    "collapsed": false
   },
   "outputs": [
    {
     "data": {
      "text/html": [
       "<div>\n",
       "<style>\n",
       "    .dataframe thead tr:only-child th {\n",
       "        text-align: right;\n",
       "    }\n",
       "\n",
       "    .dataframe thead th {\n",
       "        text-align: left;\n",
       "    }\n",
       "\n",
       "    .dataframe tbody tr th {\n",
       "        vertical-align: top;\n",
       "    }\n",
       "</style>\n",
       "<table border=\"1\" class=\"dataframe\">\n",
       "  <thead>\n",
       "    <tr style=\"text-align: right;\">\n",
       "      <th></th>\n",
       "      <th>url</th>\n",
       "      <th>meta_1</th>\n",
       "      <th>meta_2</th>\n",
       "    </tr>\n",
       "  </thead>\n",
       "  <tbody>\n",
       "    <tr>\n",
       "      <th>0</th>\n",
       "      <td>https://www.bantamcleanpower.com</td>\n",
       "      <td>Store</td>\n",
       "      <td>NaN</td>\n",
       "    </tr>\n",
       "    <tr>\n",
       "      <th>1</th>\n",
       "      <td>https://www.baselinesystems.com</td>\n",
       "      <td>Irrigation Control irrigation controller irri...</td>\n",
       "      <td>Irrigation Control Systems Soil Moisture Moni...</td>\n",
       "    </tr>\n",
       "    <tr>\n",
       "      <th>2</th>\n",
       "      <td>https://www.batterychargers.com</td>\n",
       "      <td>NaN</td>\n",
       "      <td>NaN</td>\n",
       "    </tr>\n",
       "    <tr>\n",
       "      <th>3</th>\n",
       "      <td>https://www.batteryspace.com</td>\n",
       "      <td>BatterySpace.com/AA Portable Power Corp. Tel ...</td>\n",
       "      <td>batteryspace powerizer battery batteryspace.c...</td>\n",
       "    </tr>\n",
       "    <tr>\n",
       "      <th>4</th>\n",
       "      <td>https://www.bayareacircuits.com</td>\n",
       "      <td>PCB prototyping production requirements manuf...</td>\n",
       "      <td>circuit board manufacturing pcb manufacturing...</td>\n",
       "    </tr>\n",
       "  </tbody>\n",
       "</table>\n",
       "</div>"
      ],
      "text/plain": [
       "                                url  \\\n",
       "0  https://www.bantamcleanpower.com   \n",
       "1   https://www.baselinesystems.com   \n",
       "2   https://www.batterychargers.com   \n",
       "3      https://www.batteryspace.com   \n",
       "4   https://www.bayareacircuits.com   \n",
       "\n",
       "                                              meta_1  \\\n",
       "0                                              Store   \n",
       "1   Irrigation Control irrigation controller irri...   \n",
       "2                                                NaN   \n",
       "3   BatterySpace.com/AA Portable Power Corp. Tel ...   \n",
       "4   PCB prototyping production requirements manuf...   \n",
       "\n",
       "                                              meta_2  \n",
       "0                                                NaN  \n",
       "1   Irrigation Control Systems Soil Moisture Moni...  \n",
       "2                                                NaN  \n",
       "3   batteryspace powerizer battery batteryspace.c...  \n",
       "4   circuit board manufacturing pcb manufacturing...  "
      ]
     },
     "execution_count": 53,
     "metadata": {},
     "output_type": "execute_result"
    }
   ],
   "source": [
    "df_meta.head()"
   ]
  },
  {
   "cell_type": "code",
   "execution_count": 54,
   "metadata": {
    "collapsed": true
   },
   "outputs": [],
   "source": [
    "df_meta_data=df_meta.values"
   ]
  },
  {
   "cell_type": "code",
   "execution_count": 55,
   "metadata": {
    "collapsed": false
   },
   "outputs": [
    {
     "data": {
      "text/plain": [
       "' Store'"
      ]
     },
     "execution_count": 55,
     "metadata": {},
     "output_type": "execute_result"
    }
   ],
   "source": [
    "df_meta_data[0][1]"
   ]
  },
  {
   "cell_type": "code",
   "execution_count": 56,
   "metadata": {
    "collapsed": true
   },
   "outputs": [],
   "source": [
    "df_meta_complete=[]\n"
   ]
  },
  {
   "cell_type": "code",
   "execution_count": 57,
   "metadata": {
    "collapsed": true
   },
   "outputs": [],
   "source": [
    "for i in df_meta_data:\n",
    "    stri=\"\"\n",
    "    stri=str(i[1])+\" \"+str(i[2])\n",
    "    df_meta_complete.append(stri)"
   ]
  },
  {
   "cell_type": "code",
   "execution_count": 58,
   "metadata": {
    "collapsed": false
   },
   "outputs": [
    {
     "data": {
      "text/plain": [
       "' Store nan'"
      ]
     },
     "execution_count": 58,
     "metadata": {},
     "output_type": "execute_result"
    }
   ],
   "source": [
    "df_meta_complete[0]"
   ]
  },
  {
   "cell_type": "code",
   "execution_count": 59,
   "metadata": {
    "collapsed": true
   },
   "outputs": [],
   "source": [
    "stopset=[\"nan\",\"NaN\"]"
   ]
  },
  {
   "cell_type": "code",
   "execution_count": 60,
   "metadata": {
    "collapsed": false
   },
   "outputs": [],
   "source": [
    "vectorizer = TfidfVectorizer(stop_words=stopset, use_idf=True, ngram_range=(1,3))\n",
    "\n",
    "X=vectorizer.fit_transform(df_meta_complete)"
   ]
  },
  {
   "cell_type": "code",
   "execution_count": 61,
   "metadata": {
    "collapsed": false
   },
   "outputs": [
    {
     "data": {
      "text/plain": [
       "(237, 11795)"
      ]
     },
     "execution_count": 61,
     "metadata": {},
     "output_type": "execute_result"
    }
   ],
   "source": [
    "X.shape"
   ]
  },
  {
   "cell_type": "code",
   "execution_count": 62,
   "metadata": {
    "collapsed": false
   },
   "outputs": [
    {
     "data": {
      "text/plain": [
       "TruncatedSVD(algorithm='randomized', n_components=3, n_iter=100,\n",
       "       random_state=None, tol=0.0)"
      ]
     },
     "execution_count": 62,
     "metadata": {},
     "output_type": "execute_result"
    }
   ],
   "source": [
    "lsa=TruncatedSVD(n_components=3,n_iter=100)\n",
    "lsa.fit(X)"
   ]
  },
  {
   "cell_type": "code",
   "execution_count": 65,
   "metadata": {
    "collapsed": false
   },
   "outputs": [
    {
     "data": {
      "text/plain": [
       "array([ 0.00467043,  0.00153553,  0.00076776, ...,  0.00147291,\n",
       "        0.00147291,  0.00147291])"
      ]
     },
     "execution_count": 65,
     "metadata": {},
     "output_type": "execute_result"
    }
   ],
   "source": [
    "lsa.components_[0]"
   ]
  },
  {
   "cell_type": "code",
   "execution_count": 66,
   "metadata": {
    "collapsed": true
   },
   "outputs": [],
   "source": [
    "terms=vectorizer.get_feature_names()"
   ]
  },
  {
   "cell_type": "code",
   "execution_count": 73,
   "metadata": {
    "collapsed": false
   },
   "outputs": [
    {
     "name": "stdout",
     "output_type": "stream",
     "text": [
      "Concepts 0\n",
      "tools\n",
      "tool\n",
      "equipment\n",
      "shop\n",
      "carbide\n",
      "drywall\n",
      "store\n",
      "power\n",
      "supplies\n",
      "hand\n",
      "\n",
      "Concepts 1\n",
      "store\n",
      "aid\n",
      "kits\n",
      "safety\n",
      "kit\n",
      "fire\n",
      "disaster\n",
      "training\n",
      "first aid\n",
      "products\n",
      "\n",
      "Concepts 2\n",
      "aid\n",
      "safety\n",
      "fire\n",
      "kits\n",
      "kit\n",
      "services\n",
      "training\n",
      "products\n",
      "supplies\n",
      "first aid\n",
      "\n"
     ]
    }
   ],
   "source": [
    "for i,comp in enumerate(lsa.components_):\n",
    "    termsInComp=zip(terms,comp)\n",
    "    sortedTerms=sorted(termsInComp,key=lambda x: x[1], reverse=True)[:10]\n",
    "    print(\"Concepts \"+str(i))\n",
    "    for term in sortedTerms:\n",
    "        print(term[0])\n",
    "    print(\"\")"
   ]
  },
  {
   "cell_type": "markdown",
   "metadata": {},
   "source": [
    "# Technology, Office, & Education\n",
    "# Consumer Products Group\n",
    "# Industrial Tools, and Hardware"
   ]
  }
 ],
 "metadata": {
  "kernelspec": {
   "display_name": "Python 2",
   "language": "python",
   "name": "python2"
  },
  "language_info": {
   "codemirror_mode": {
    "name": "ipython",
    "version": 2
   },
   "file_extension": ".py",
   "mimetype": "text/x-python",
   "name": "python",
   "nbconvert_exporter": "python",
   "pygments_lexer": "ipython2",
   "version": "2.7.13"
  }
 },
 "nbformat": 4,
 "nbformat_minor": 2
}
