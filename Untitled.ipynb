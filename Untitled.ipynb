{
 "cells": [
  {
   "cell_type": "code",
   "execution_count": 63,
   "metadata": {
    "collapsed": true
   },
   "outputs": [],
   "source": [
    "from numpy import zeros\n",
    "from scipy.linalg import svd\n",
    "import numpy as np\n",
    "import math"
   ]
  },
  {
   "cell_type": "code",
   "execution_count": 64,
   "metadata": {
    "collapsed": false
   },
   "outputs": [],
   "source": [
    "titles =[\"The Neatest Little Guide to Stock Market Investing\", \n",
    "\"Investing For Dummies, 4th Edition\", \n",
    "\"The Little Book of Common Sense Investing: The Only Way to Guarantee Your Fair Share of Stock Market Returns\", \n",
    "\"The Little Book of Value Investing\", \n",
    "\"Value Investing: From Graham to Buffett and Beyond\", \n",
    "\"Rich Dad's Guide to Investing: What the Rich Invest in, That the Poor and the Middle Class Do Not!\", \n",
    "\"Investing in Real Estate, 5th Edition\", \n",
    "\"Stock Investing For Dummies\", \n",
    "\"Rich Dad's Advisors: The ABC's of Real Estate Investing: The Secrets of Finding Hidden Profits Most Investors Miss\" ]\n",
    "stopwords = ['and','edition','for','in','little','of','the','to']\n",
    "ignorechars = ''',:'!'''"
   ]
  },
  {
   "cell_type": "code",
   "execution_count": 65,
   "metadata": {
    "collapsed": true
   },
   "outputs": [],
   "source": [
    "class LSA(object):\n",
    "    def __init__(self, stopwords, ignorechars):\n",
    "        self.stopwords = stopwords\n",
    "        self.ignorechars = ignorechars\n",
    "        self.wdict = {}\n",
    "        self.dcount = 0        \n",
    "    def parse(self, doc):\n",
    "        words = doc.split();\n",
    "        for w in words:\n",
    "            w = w.lower()\n",
    "            if w in self.stopwords:\n",
    "                continue\n",
    "            elif w in self.wdict:\n",
    "                self.wdict[w].append(self.dcount)\n",
    "            else:\n",
    "                self.wdict[w] = [self.dcount]\n",
    "        self.dcount += 1      \n",
    "    def build(self):\n",
    "        self.keys = [k for k in self.wdict.keys() if len(self.wdict[k]) > 1]\n",
    "        self.keys.sort()\n",
    "        self.A = zeros([len(self.keys), self.dcount])\n",
    "        for i, k in enumerate(self.keys):\n",
    "            for d in self.wdict[k]:\n",
    "                self.A[i,d] += 1\n",
    "    def calc(self):\n",
    "        self.U, self.S, self.Vt = svd(self.A)\n",
    "    def TFIDF(self):\n",
    "        WordsPerDoc = np.sum(self.A, axis=0)        \n",
    "        DocsPerWord = np.sum(np.asarray(self.A > 0, 'i'), axis=1)\n",
    "        rows, cols = self.A.shape\n",
    "        for i in range(rows):\n",
    "            for j in range(cols):\n",
    "                self.A[i,j] = (self.A[i,j] / WordsPerDoc[j]) * math.log(float(cols) / DocsPerWord[i])\n",
    "    def printA(self):\n",
    "        print 'Here is the count matrix'\n",
    "        print self.A\n",
    "    def printSVD(self):\n",
    "        print 'Here are the singular values'\n",
    "        print self.S\n",
    "        print 'Here are the first 3 columns of the U matrix'\n",
    "        print -1*self.U[:, 0:3]\n",
    "        print 'Here are the first 3 rows of the Vt matrix'\n",
    "        print -1*self.Vt[0:3, :]"
   ]
  },
  {
   "cell_type": "code",
   "execution_count": 66,
   "metadata": {
    "collapsed": false
   },
   "outputs": [],
   "source": [
    "mylsa = LSA(stopwords, ignorechars)"
   ]
  },
  {
   "cell_type": "code",
   "execution_count": 67,
   "metadata": {
    "collapsed": true
   },
   "outputs": [],
   "source": [
    "for t in titles:\n",
    "    mylsa.parse(t)\n"
   ]
  },
  {
   "cell_type": "code",
   "execution_count": 68,
   "metadata": {
    "collapsed": false
   },
   "outputs": [],
   "source": [
    "#mylsa.printA()"
   ]
  },
  {
   "cell_type": "code",
   "execution_count": 69,
   "metadata": {
    "collapsed": false
   },
   "outputs": [],
   "source": [
    "mylsa.build()\n",
    "\n",
    "\n"
   ]
  },
  {
   "cell_type": "code",
   "execution_count": 70,
   "metadata": {
    "collapsed": false
   },
   "outputs": [],
   "source": [
    "mylsa.TFIDF()"
   ]
  },
  {
   "cell_type": "code",
   "execution_count": 71,
   "metadata": {
    "collapsed": true
   },
   "outputs": [],
   "source": [
    "mylsa.calc()"
   ]
  },
  {
   "cell_type": "code",
   "execution_count": 72,
   "metadata": {
    "collapsed": false
   },
   "outputs": [
    {
     "name": "stdout",
     "output_type": "stream",
     "text": [
      "Here are the singular values\n",
      "[ 1.10050818  0.97111081  0.88818237  0.8151959   0.57681318  0.50386107\n",
      "  0.41739399  0.29469036  0.12254768]\n",
      "Here are the first 3 columns of the U matrix\n",
      "[[ 0.30368189  0.26258271  0.12201155]\n",
      " [ 0.20451719 -0.30548707 -0.26615503]\n",
      " [ 0.15883567 -0.1483611   0.0134995 ]\n",
      " [ 0.35643125 -0.1077943   0.54458916]\n",
      " [ 0.34909864  0.06158502 -0.24937918]\n",
      " [ 0.1715291   0.02117527  0.25793345]\n",
      " [ 0.34741532 -0.52026179  0.0822702 ]\n",
      " [ 0.28889919 -0.42798281 -0.40301943]\n",
      " [ 0.23013547 -0.00439076  0.4855784 ]\n",
      " [ 0.55250651  0.58821369 -0.28950995]]\n",
      "Here are the first 3 rows of the Vt matrix\n",
      "[[ 0.21790601  0.19037163  0.28411384  0.45351144  0.50617851  0.30870447\n",
      "   0.3325941   0.21005532  0.35160361]\n",
      " [-0.06680008 -0.06524492  0.12148752  0.41749563  0.48123244 -0.39544821\n",
      "  -0.43551881 -0.03510608 -0.47259497]\n",
      " [ 0.35516941  0.36040149  0.25408632  0.02558472 -0.35897723 -0.40410337\n",
      "   0.24986029  0.48051204 -0.30539295]]\n"
     ]
    }
   ],
   "source": [
    "mylsa.printSVD()"
   ]
  },
  {
   "cell_type": "code",
   "execution_count": null,
   "metadata": {
    "collapsed": true
   },
   "outputs": [],
   "source": []
  }
 ],
 "metadata": {
  "kernelspec": {
   "display_name": "Python 2",
   "language": "python",
   "name": "python2"
  },
  "language_info": {
   "codemirror_mode": {
    "name": "ipython",
    "version": 2
   },
   "file_extension": ".py",
   "mimetype": "text/x-python",
   "name": "python",
   "nbconvert_exporter": "python",
   "pygments_lexer": "ipython2",
   "version": "2.7.13"
  }
 },
 "nbformat": 4,
 "nbformat_minor": 2
}
